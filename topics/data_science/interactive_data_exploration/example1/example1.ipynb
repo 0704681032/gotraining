{
 "cells": [
  {
   "cell_type": "markdown",
   "metadata": {},
   "source": [
    "In this example we will illustrate the interactive data exploration capabilities of jupyter notebooks.  To do this we will utilize the `iris.csv` dataset we previously analyzed."
   ]
  },
  {
   "cell_type": "markdown",
   "metadata": {},
   "source": [
    "# Imports"
   ]
  },
  {
   "cell_type": "markdown",
   "metadata": {},
   "source": [
    "Import packages from `stdlib` or third-party packages into the notebook the same way you would in a normal Go program."
   ]
  },
  {
   "cell_type": "code",
   "execution_count": null,
   "metadata": {
    "collapsed": true
   },
   "outputs": [],
   "source": [
    "import (\n",
    "    \"fmt\"\n",
    "    \"io/ioutil\"\n",
    "    \"log\"\n",
    "    \"github.com/kniren/gota/data-frame\"\n",
    ")"
   ]
  },
  {
   "cell_type": "markdown",
   "metadata": {},
   "source": [
    "# Load `iris.csv`"
   ]
  },
  {
   "cell_type": "markdown",
   "metadata": {},
   "source": [
    "Declaring `package main` and `func main` are not required within the notebook.  This is handled for you by the kernel.  We can just start programming Go and interactively change things as we go along.  Evaluate each \"cell\" of code by navigating to the cell and pressing `shift + enter`, or by using the options in the toolbar."
   ]
  },
  {
   "cell_type": "code",
   "execution_count": null,
   "metadata": {
    "collapsed": true
   },
   "outputs": [],
   "source": [
    "// Pull in the CSV data.\n",
    "irisData, err := ioutil.ReadFile(\"../data/iris.csv\")\n",
    "if err != nil {\n",
    "    log.Println(err)\n",
    "}"
   ]
  },
  {
   "cell_type": "code",
   "execution_count": null,
   "metadata": {
    "collapsed": false
   },
   "outputs": [],
   "source": [
    "// Create a dataframe from the CSV string.\n",
    "// The types of the columns will be inferred.\n",
    "irisDF := df.ReadCSV(string(irisData))"
   ]
  },
  {
   "cell_type": "markdown",
   "metadata": {},
   "source": [
    "# Filter the Dataset"
   ]
  },
  {
   "cell_type": "code",
   "execution_count": null,
   "metadata": {
    "collapsed": false
   },
   "outputs": [],
   "source": [
    "// Filter the dataframe to see only the rows where\n",
    "// certain iris species are found.\n",
    "filter := df.F{\n",
    "    Colname:    \"species\",\n",
    "    Comparator: \"==\",\n",
    "    Comparando: \"Iris-versicolor\",\n",
    "}\n",
    "filteredDF := irisDF.Filter(filter)"
   ]
  },
  {
   "cell_type": "code",
   "execution_count": null,
   "metadata": {
    "collapsed": false
   },
   "outputs": [],
   "source": [
    "fmt.Println(filteredDF)"
   ]
  },
  {
   "cell_type": "code",
   "execution_count": null,
   "metadata": {
    "collapsed": true
   },
   "outputs": [],
   "source": []
  }
 ],
 "metadata": {
  "kernelspec": {
   "display_name": "Golang",
   "language": "go",
   "name": "gophernotes"
  },
  "language_info": {
   "name": "go"
  }
 },
 "nbformat": 4,
 "nbformat_minor": 0
}
