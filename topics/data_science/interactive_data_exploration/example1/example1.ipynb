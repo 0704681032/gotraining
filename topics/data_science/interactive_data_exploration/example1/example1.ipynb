{
 "cells": [
  {
   "cell_type": "markdown",
   "metadata": {},
   "source": [
    "In this example we will illustrate the interactive data exploration capabilities of jupyter notebooks.  To do this we will utilize the `iris.csv` dataset we previously analyzed."
   ]
  },
  {
   "cell_type": "markdown",
   "metadata": {},
   "source": [
    "# Imports"
   ]
  },
  {
   "cell_type": "markdown",
   "metadata": {},
   "source": [
    "Import packages from `stdlib` or third-party packages into the notebook the same way you would in a normal Go program."
   ]
  },
  {
   "cell_type": "code",
   "execution_count": 1,
   "metadata": {
    "collapsed": true
   },
   "outputs": [],
   "source": [
    "import (\n",
    "    \"fmt\"\n",
    "    \"io/ioutil\"\n",
    "    \"log\"\n",
    "    \"github.com/kniren/gota/data-frame\"\n",
    ")"
   ]
  },
  {
   "cell_type": "markdown",
   "metadata": {},
   "source": [
    "# Load `iris.csv`"
   ]
  },
  {
   "cell_type": "markdown",
   "metadata": {},
   "source": [
    "Declaring `package main` and `func main` are not required within the notebook.  This is handled for you by the kernel.  We can just start programming Go and interactively change things as we go along.  Evaluate each \"cell\" of code by navigating to the cell and pressing `shift + enter`, or by using the options in the toolbar."
   ]
  },
  {
   "cell_type": "code",
   "execution_count": 2,
   "metadata": {
    "collapsed": false
   },
   "outputs": [],
   "source": [
    "// Pull in the CSV data.\n",
    "irisData, err := ioutil.ReadFile(\"../data/iris.csv\")\n",
    "if err != nil {\n",
    "    fmt.Println(err.Error())\n",
    "}"
   ]
  },
  {
   "cell_type": "code",
   "execution_count": 3,
   "metadata": {
    "collapsed": false
   },
   "outputs": [],
   "source": [
    "// Create a dataframe from the CSV string.\n",
    "// The types of the columns will be inferred.\n",
    "irisDF := df.ReadCSV(string(irisData))"
   ]
  },
  {
   "cell_type": "code",
   "execution_count": 4,
   "metadata": {
    "collapsed": false
   },
   "outputs": [
    {
     "data": {
      "text/plain": [
       "    sepal_length sepal_width petal_length petal_width species    \n",
       " 1: 4.9          3           1.4          0.2         Iris-setosa\n",
       " 2: 4.7          3.2         1.3          0.2         Iris-setosa\n",
       " 3: 4.6          3.1         1.5          0.2         Iris-setosa\n",
       " 4: 5            3.6         1.4          0.2         Iris-setosa\n",
       " 5: 5.4          3.9         1.7          0.4         Iris-setosa\n",
       "\n",
       "\u001b[34m\u001b[1m397\u001b[0m\n",
       "\u001b[36m\u001b[1mnil\u001b[0m\n"
      ]
     },
     "execution_count": 4,
     "metadata": {},
     "output_type": "execute_result"
    }
   ],
   "source": [
    "fmt.Println(irisDF.Subset([]int{1,2,3,4,5}))"
   ]
  },
  {
   "cell_type": "markdown",
   "metadata": {},
   "source": [
    "# Filter the Dataset"
   ]
  },
  {
   "cell_type": "code",
   "execution_count": 5,
   "metadata": {
    "collapsed": false
   },
   "outputs": [],
   "source": [
    "// Filter the dataframe to see only the rows where\n",
    "// certain iris species are found.\n",
    "filter := df.F{\n",
    "    Colname:    \"species\",\n",
    "    Comparator: \"==\",\n",
    "    Comparando: \"Iris-versicolor\",\n",
    "}\n",
    "filteredDF := irisDF.Filter(filter)"
   ]
  },
  {
   "cell_type": "code",
   "execution_count": 6,
   "metadata": {
    "collapsed": false
   },
   "outputs": [
    {
     "data": {
      "text/plain": [
       "     sepal_length sepal_width petal_length petal_width species        \n",
       "  1: 7            3.2         4.7          1.4         Iris-versicolor\n",
       "  2: 6.4          3.2         4.5          1.5         Iris-versicolor\n",
       "  3: 6.9          3.1         4.9          1.5         Iris-versicolor\n",
       "  4: 5.5          2.3         4            1.3         Iris-versicolor\n",
       "  5: 6.5          2.8         4.6          1.5         Iris-versicolor\n",
       "  6: 5.7          2.8         4.5          1.3         Iris-versicolor\n",
       "  7: 6.3          3.3         4.7          1.6         Iris-versicolor\n",
       "  8: 4.9          2.4         3.3          1           Iris-versicolor\n",
       "  9: 6.6          2.9         4.6          1.3         Iris-versicolor\n",
       " 10: 5.2          2.7         3.9          1.4         Iris-versicolor\n",
       " 11: 5            2           3.5          1           Iris-versicolor\n",
       " 12: 5.9          3           4.2          1.5         Iris-versicolor\n",
       " 13: 6            2.2         4            1           Iris-versicolor\n",
       " 14: 6.1          2.9         4.7          1.4         Iris-versicolor\n",
       " 15: 5.6          2.9         3.6          1.3         Iris-versicolor\n",
       " 16: 6.7          3.1         4.4          1.4         Iris-versicolor\n",
       " 17: 5.6          3           4.5          1.5         Iris-versicolor\n",
       " 18: 5.8          2.7         4.1          1           Iris-versicolor\n",
       " 19: 6.2          2.2         4.5          1.5         Iris-versicolor\n",
       " 20: 5.6          2.5         3.9          1.1         Iris-versicolor\n",
       " 21: 5.9          3.2         4.8          1.8         Iris-versicolor\n",
       " 22: 6.1          2.8         4            1.3         Iris-versicolor\n",
       " 23: 6.3          2.5         4.9          1.5         Iris-versicolor\n",
       " 24: 6.1          2.8         4.7          1.2         Iris-versicolor\n",
       " 25: 6.4          2.9         4.3          1.3         Iris-versicolor\n",
       " 26: 6.6          3           4.4          1.4         Iris-versicolor\n",
       " 27: 6.8          2.8         4.8          1.4         Iris-versicolor\n",
       " 28: 6.7          3           5            1.7         Iris-versicolor\n",
       " 29: 6            2.9         4.5          1.5         Iris-versicolor\n",
       " 30: 5.7          2.6         3.5          1           Iris-versicolor\n",
       " 31: 5.5          2.4         3.8          1.1         Iris-versicolor\n",
       " 32: 5.5          2.4         3.7          1           Iris-versicolor\n",
       " 33: 5.8          2.7         3.9          1.2         Iris-versicolor\n",
       " 34: 6            2.7         5.1          1.6         Iris-versicolor\n",
       " 35: 5.4          3           4.5          1.5         Iris-versicolor\n",
       " 36: 6            3.4         4.5          1.6         Iris-versicolor\n",
       " 37: 6.7          3.1         4.7          1.5         Iris-versicolor\n",
       " 38: 6.3          2.3         4.4          1.3         Iris-versicolor\n",
       " 39: 5.6          3           4.1          1.3         Iris-versicolor\n",
       " 40: 5.5          2.5         4            1.3         Iris-versicolor\n",
       " 41: 5.5          2.6         4.4          1.2         Iris-versicolor\n",
       " 42: 6.1          3           4.6          1.4         Iris-versicolor\n",
       " 43: 5.8          2.6         4            1.2         Iris-versicolor\n",
       " 44: 5            2.3         3.3          1           Iris-versicolor\n",
       " 45: 5.6          2.7         4.2          1.3         Iris-versicolor\n",
       " 46: 5.7          3           4.2          1.2         Iris-versicolor\n",
       " 47: 5.7          2.9         4.2          1.3         Iris-versicolor\n",
       " 48: 6.2          2.9         4.3          1.3         Iris-versicolor\n",
       " 49: 5.1          2.5         3            1.1         Iris-versicolor\n",
       " 50: 5.7          2.8         4.1          1.3         Iris-versicolor\n",
       "\n",
       "\u001b[34m\u001b[1m3622\u001b[0m\n",
       "\u001b[36m\u001b[1mnil\u001b[0m\n"
      ]
     },
     "execution_count": 6,
     "metadata": {},
     "output_type": "execute_result"
    }
   ],
   "source": [
    "fmt.Println(filteredDF)"
   ]
  },
  {
   "cell_type": "code",
   "execution_count": null,
   "metadata": {
    "collapsed": true
   },
   "outputs": [],
   "source": []
  }
 ],
 "metadata": {
  "kernelspec": {
   "display_name": "Golang",
   "language": "go",
   "name": "gophernotes"
  },
  "language_info": {
   "name": "go"
  }
 },
 "nbformat": 4,
 "nbformat_minor": 0
}
